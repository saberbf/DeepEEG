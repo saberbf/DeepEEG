{
 "cells": [
  {
   "cell_type": "markdown",
   "metadata": {},
   "source": [
    "# Import Statements"
   ]
  },
  {
   "cell_type": "code",
   "execution_count": 1,
   "metadata": {},
   "outputs": [],
   "source": [
    "import scipy.io\n",
    "import numpy as np"
   ]
  },
  {
   "cell_type": "code",
   "execution_count": 2,
   "metadata": {},
   "outputs": [],
   "source": [
    "import pickle\n",
    "import copy\n",
    "import time\n",
    "import datetime\n",
    "import matplotlib.pyplot as plt\n",
    "import pandas as pd\n",
    "from pandas.plotting import parallel_coordinates"
   ]
  },
  {
   "cell_type": "code",
   "execution_count": 49,
   "metadata": {},
   "outputs": [],
   "source": [
    "from sklearn.model_selection import GridSearchCV, train_test_split\n",
    "from sklearn import svm\n",
    "from sklearn.metrics import confusion_matrix, classification_report, roc_curve, auc, accuracy_score\n",
    "from sklearn.decomposition import PCA\n",
    "from sklearn.preprocessing import scale\n",
    "from sklearn.utils import resample"
   ]
  },
  {
   "cell_type": "markdown",
   "metadata": {},
   "source": [
    "## Pull local datasets\n",
    "Using only subj1 data at the moment"
   ]
  },
  {
   "cell_type": "code",
   "execution_count": 97,
   "metadata": {},
   "outputs": [
    {
     "name": "stdout",
     "output_type": "stream",
     "text": [
      "Test set size is: 50\n",
      "Train set size is: 198\n",
      "num_trials: 248 \n",
      "num_feats: 2\n"
     ]
    },
    {
     "data": {
      "image/png": "[encoded data removed]",
      "text/plain": [
       "<Figure size 432x288 with 1 Axes>"
      ]
     },
     "metadata": {
      "needs_background": "light"
     },
     "output_type": "display_data"
    }
   ],
   "source": [
    "# EEG Data\n",
    "x_train_N = scipy.io.loadmat('subj1_session1_xDataPower.mat')\n",
    "x_train_N = np.asarray(x_train_N['xData1power'])\n",
    "y_train_N = scipy.io.loadmat('subj1_session1_yData.mat')\n",
    "y_train_N = np.asarray(y_train_N['yData1'])\n",
    "\n",
    "# Selecting the first two features to reduce dimentionality\n",
    "x_train_N = x_train_N[:,:2]\n",
    "\n",
    "# Standardize the data set along samples\n",
    "x_train_N = scale(x_train_N, axis=0)\n",
    "\n",
    "# Create train and test set from the original data set\n",
    "x_train_Tr, x_test_Ts, y_train_Tr, y_test_Ts = \\\n",
    "            train_test_split(x_train_N, np.squeeze(y_train_N), test_size = 0.20)\n",
    "\n",
    "\n",
    "\n",
    "# Data details\n",
    "num_trials = x_train_N.shape[0]\n",
    "num_feats = x_train_N.shape[1]\n",
    "print('Test set size is:',x_test_Ts.shape[0])\n",
    "print('Train set size is:',x_train_Tr.shape[0])\n",
    "\n",
    "# plot the samples\n",
    "plt.scatter(x_train_Tr[:, 0], x_train_Tr[:, 1], \\\n",
    "            c=y_train_Tr, cmap=plt.cm.Paired, edgecolors='k')\n",
    "\n",
    "\n",
    "print('num_trials:',num_trials,'\\nnum_feats:',num_feats)\n",
    "# print('\\nx\\n',x_train_N,'\\ny\\n', y_train_N)\n"
   ]
  },
  {
   "cell_type": "markdown",
   "metadata": {},
   "source": [
    "# SVC using 2 first features and Class weights to handle imbalanced data"
   ]
  },
  {
   "cell_type": "code",
   "execution_count": null,
   "metadata": {},
   "outputs": [],
   "source": [
    "# create the model\n",
    "# Regularization parameter, C, has to be fine-tuned by cross-validation\n",
    "SVM_clf = svm.SVC(kernel='linear')\n",
    "# sweep the Regularization parameter of the mode and use \n",
    "# Cross Validation to find optimum value\n",
    "CVParams = {'C':(1e-8,1e-6,1e-4,1e-2,1e-1,1,5,10,20,50,100,1000)}\n",
    "CVSVM = GridSearchCV(SVM_clf, CVParams, cv=7)\n",
    "# fit the model and get the separating hyperplane\n",
    "CVSVM.fit(x_train_Tr, y_train_Tr)\n",
    "CVSVM.best_params_\n",
    "\n",
    "# fit the model and get the separating hyperplane using weighted classes\n",
    "wSVM_clf = svm.SVC(kernel='linear', class_weight={1: 10})\n",
    "\n",
    "# sweep the Regularization parameter of the mode and use \n",
    "# Cross Validation to find optimum value\n",
    "wCVSVM = GridSearchCV(wSVM_clf, CVParams, cv=7)\n",
    "# fit the model and get the separating hyperplane\n",
    "wCVSVM.fit(x_train_Tr, y_train_Tr)\n",
    "wCVSVM.best_params_\n",
    "\n",
    "allscores=CVSVM.cv_results_['mean_test_score']\n",
    "print(allscores)"
   ]
  },
  {
   "cell_type": "code",
   "execution_count": null,
   "metadata": {},
   "outputs": [],
   "source": [
    "print('Number of trials is:',num_trials,'\\nNumber of features is:',num_feats)\n",
    "print('Test set size is:',x_test_Ts.shape[0])\n",
    "print('Train set size is:',x_train_Tr.shape[0])\n",
    "\n",
    "\n",
    "print('\\nSVM results:\\n train accuracy: %7.3f\\n test accuracy:%7.3f' \\\n",
    "   %(CVSVM.score(x_train_Tr, y_train_Tr), CVSVM.score(x_test_Ts, y_test_Ts)))\n",
    "conf_svm = confusion_matrix(y_test_Ts,CVSVM.predict(x_test_Ts))\n",
    "print ('Confusion matrix for SVM (time domain):\\n', (conf_svm))# + 0.0) / sum(conf_svm))\n",
    "print('Classification report for SVM (time domain):\\n', \\\n",
    "      classification_report(y_test_Ts,CVSVM.predict(x_test_Ts)))\n",
    "\n",
    "\n",
    "# plot the samples\n",
    "plt.scatter(x_train_Tr[:, 0], x_train_Tr[:, 1], c=y_train_Tr, cmap=plt.cm.Paired, edgecolors='k')\n",
    "\n",
    "# plot the decision functions for both classifiers\n",
    "ax = plt.gca()\n",
    "xlim = ax.get_xlim()\n",
    "ylim = ax.get_ylim()\n",
    "\n",
    "# create grid to evaluate model\n",
    "xx = np.linspace(xlim[0], xlim[1], 50)\n",
    "yy = np.linspace(ylim[0], ylim[1], 50)\n",
    "YY, XX = np.meshgrid(yy, xx)\n",
    "xy = np.vstack([XX.ravel(), YY.ravel()]).T\n",
    "\n",
    "# get the separating hyperplane\n",
    "Z = CVSVM.decision_function(xy).reshape(XX.shape)\n",
    "\n",
    "# plot decision boundary and margins\n",
    "a = ax.contour(XX, YY, Z, levels=1, colors='k', alpha=0.5, linestyles=['-'])\n",
    "\n",
    "# get the separating hyperplane for weighted classes\n",
    "wZ = wCVSVM.decision_function(xy).reshape(XX.shape)\n",
    "\n",
    "# plot decision boundary and margins for weighted classes\n",
    "b = ax.contour(XX, YY, wZ, levels=1, colors='r', alpha=0.5, linestyles=['-'])\n",
    "\n",
    "plt.legend([a.collections[0], b.collections[0]], [\"non weighted\", \"weighted\"],\n",
    "           loc=\"upper left\")\n",
    "plt.show()"
   ]
  },
  {
   "cell_type": "markdown",
   "metadata": {},
   "source": [
    "## Feature Reduction with PCA\n",
    "Using only subj1 data at the moment"
   ]
  },
  {
   "cell_type": "code",
   "execution_count": 98,
   "metadata": {},
   "outputs": [
    {
     "name": "stdout",
     "output_type": "stream",
     "text": [
      "Total amount of variance explained by PCA: 0.8019440737127154\n",
      "Total number of features selected by PCA: 41\n",
      "Test set size is: 50\n",
      "Train set size is: 198\n",
      "Total number of Trials: 248 \n",
      "Total number of features: 41\n"
     ]
    }
   ],
   "source": [
    "# EEG Data\n",
    "x_train_N = scipy.io.loadmat('subj1_session1_xDataPower.mat')\n",
    "x_train_N = np.asarray(x_train_N['xData1power'])\n",
    "y_train_N = scipy.io.loadmat('subj1_session1_yData.mat')\n",
    "y_train_N = np.asarray(y_train_N['yData1'])\n",
    "\n",
    "# Standardize the data set along samples\n",
    "x_train_N = scale(x_train_N, axis=0)\n",
    "# print(x_train_N.mean(axis=0))\n",
    "# Using PCA to reduce dimensionality\n",
    "# Select the number of components such that the amount of variance \n",
    "# that needs to be explained is greater than 80%\n",
    "pca = PCA(n_components=0.80, svd_solver='full')\n",
    "x_train_N = pca.fit_transform(x_train_N)\n",
    "print('Total amount of variance explained by PCA:',pca.explained_variance_ratio_.sum(axis=0))\n",
    "print('Total number of features selected by PCA:',pca.n_components_)\n",
    "# print(pca.mean_)\n",
    "\n",
    "# Create train and test set from the original data set\n",
    "x_train_Tr, x_test_Ts, y_train_Tr, y_test_Ts = \\\n",
    "            train_test_split(x_train_N, np.squeeze(y_train_N), test_size = 0.20)\n",
    "\n",
    "\n",
    "\n",
    "# Data details\n",
    "num_trials = x_train_N.shape[0]\n",
    "num_feats = x_train_N.shape[1]\n",
    "print('Test set size is:',x_test_Ts.shape[0])\n",
    "print('Train set size is:',x_train_Tr.shape[0])\n",
    "\n",
    "# plot the samples for top ranked components \n",
    "# plt.scatter(x_train_Tr[:, 0], x_train_Tr[:, 1], \\\n",
    "#             c=y_train_Tr, cmap=plt.cm.Paired, edgecolors='k')\n",
    "\n",
    "\n",
    "print('Total number of Trials:',num_trials,'\\nTotal number of features:',num_feats)"
   ]
  },
  {
   "cell_type": "markdown",
   "metadata": {},
   "source": [
    "## Using RBF Kernel"
   ]
  },
  {
   "cell_type": "code",
   "execution_count": 8,
   "metadata": {},
   "outputs": [
    {
     "name": "stdout",
     "output_type": "stream",
     "text": [
      "Total time elapsed: 882.1277379989624\n"
     ]
    },
    {
     "name": "stderr",
     "output_type": "stream",
     "text": [
      "/Users/saberbf/opt/anaconda3/envs/bdl_2019f_env/lib/python3.7/site-packages/sklearn/model_selection/_search.py:814: DeprecationWarning: The default of the `iid` parameter will change from True to False in version 0.22 and will be removed in 0.24. This will change numeric results when test-set sizes are unequal.\n",
      "  DeprecationWarning)\n"
     ]
    }
   ],
   "source": [
    "# create the model\n",
    "startTime = time.time()\n",
    "# fit the model and get the separating hyperplane using weighted classes\n",
    "# Regularization parameter, C, has to be fine-tuned by cross-validation\n",
    "wSVM_clf = svm.SVC(class_weight='balanced')\n",
    "# sweep the Regularization parameter of the mode and use \n",
    "# Cross Validation to find optimum value\n",
    "CVParams = [\n",
    "  {'C': [1e-6, 1e-4, 1e-2, 1e-1, 1, 10, 100, 1000], 'kernel': ['linear']},\n",
    "  {'C': [1e-6, 1e-4, 1e-2, 1e-1, 1, 10, 100, 1000], \\\n",
    "   'gamma': [1e-4, 1e-3, 1e-2, 1e-1, 1, 10, 100], 'kernel': ['rbf']},\n",
    "            ]\n",
    "wCVSVM = GridSearchCV(wSVM_clf, CVParams, cv=8, n_jobs=-1)\n",
    "# fit the model and get the separating hyperplane\n",
    "wCVSVM.fit(x_train_Tr, y_train_Tr)\n",
    "wCVSVM.best_params_\n",
    "\n",
    "print('Total time elapsed:', time.time()-startTime)"
   ]
  },
  {
   "cell_type": "code",
   "execution_count": 18,
   "metadata": {},
   "outputs": [
    {
     "name": "stdout",
     "output_type": "stream",
     "text": [
      "Number of trials is: 248 \n",
      "Number of features is: 41\n",
      "Test set size is: 50\n",
      "Train set size is: 198\n",
      "\n",
      "wSVM results:\n",
      " train accuracy:   1.000\n",
      " test accuracy:  0.580\n",
      "Confusion matrix for wSVM (time domain):\n",
      " [[ 0 21]\n",
      " [ 0 29]]\n",
      "Classification report for wSVM (time domain):\n",
      "               precision    recall  f1-score   support\n",
      "\n",
      "           0       0.00      0.00      0.00        21\n",
      "           1       0.58      1.00      0.73        29\n",
      "\n",
      "    accuracy                           0.58        50\n",
      "   macro avg       0.29      0.50      0.37        50\n",
      "weighted avg       0.34      0.58      0.43        50\n",
      "\n",
      "Best value for C is: {'C': 1, 'gamma': 0.1, 'kernel': 'rbf'}\n"
     ]
    },
    {
     "name": "stderr",
     "output_type": "stream",
     "text": [
      "/Users/saberbf/opt/anaconda3/envs/bdl_2019f_env/lib/python3.7/site-packages/sklearn/metrics/classification.py:1437: UndefinedMetricWarning: Precision and F-score are ill-defined and being set to 0.0 in labels with no predicted samples.\n",
      "  'precision', 'predicted', average, warn_for)\n"
     ]
    }
   ],
   "source": [
    "pd.DataFrame(wCVSVM.cv_results_)\n",
    "\n",
    "print('Number of trials is:',num_trials,'\\nNumber of features is:',num_feats)\n",
    "print('Test set size is:',x_test_Ts.shape[0])\n",
    "print('Train set size is:',x_train_Tr.shape[0])\n",
    "\n",
    "\n",
    "print('\\nwSVM results:\\n train accuracy: %7.3f\\n test accuracy:%7.3f' \\\n",
    "   %(wCVSVM.score(x_train_Tr, y_train_Tr), wCVSVM.score(x_test_Ts, y_test_Ts)))\n",
    "\n",
    "print ('Confusion matrix for wSVM (time domain):\\n', \\\n",
    "       confusion_matrix(y_test_Ts, wCVSVM.predict(x_test_Ts)))\n",
    "print('Classification report for wSVM (time domain):\\n', \\\n",
    "      classification_report(y_test_Ts, wCVSVM.predict(x_test_Ts)))\n",
    "\n",
    "# plt.plot(np.log(CVParams[:]['C']), wCVSVM.cv_results_['mean_test_score'], color='r')\n",
    "print('Best value for C is:', wCVSVM.best_params_)\n",
    "# print(wCVSVM.cv_results_)"
   ]
  },
  {
   "cell_type": "code",
   "execution_count": 99,
   "metadata": {},
   "outputs": [
    {
     "name": "stdout",
     "output_type": "stream",
     "text": [
      "0.0    147\n",
      "1.0    143\n",
      "Name: 41, dtype: int64\n",
      "(290, 41)\n",
      "(290,)\n"
     ]
    }
   ],
   "source": [
    "# Upsample minority classPython\n",
    "# Separate majority and minority classes\n",
    "df = pd.DataFrame(data=np.hstack([x_train_Tr,y_train_Tr.reshape(198,1)]))\n",
    "\n",
    "# df_majority = df[df[41]==1]\n",
    "# df_minority = df[df[41]==0]\n",
    "\n",
    "df = np.hstack([x_train_Tr,y_train_Tr.reshape(198,1)])\n",
    "df_majority = df[df[:,41]==1]\n",
    "df_minority = df[df[:,41]==0]\n",
    " \n",
    "# Upsample minority class\n",
    "df_minority_upsampled = resample(df_minority, \n",
    "                                 replace=True,     # sample with replacement\n",
    "                                 n_samples=147,    # to match majority class\n",
    "                                 random_state=123) # reproducible results\n",
    "\n",
    "# Combine majority class with upsampled minority class\n",
    "# df_upsampled = pd.concat([df_majority, df_minority_upsampled])\n",
    "df_upsampled = np.vstack([df_majority, df_minority_upsampled])\n",
    "# Display new class counts\n",
    "print(pd.DataFrame(data=df_upsampled)[41].value_counts())\n",
    "\n",
    "x_train_Tr = df_upsampled[:,:-1]\n",
    "y_train_Tr = df_upsampled[:,-1]\n",
    "\n",
    "print(x_train_Tr.shape)\n",
    "print(y_train_Tr.shape)"
   ]
  },
  {
   "cell_type": "code",
   "execution_count": 101,
   "metadata": {},
   "outputs": [
    {
     "name": "stderr",
     "output_type": "stream",
     "text": [
      "/Users/saberbf/opt/anaconda3/envs/bdl_2019f_env/lib/python3.7/site-packages/sklearn/model_selection/_search.py:814: DeprecationWarning: The default of the `iid` parameter will change from True to False in version 0.22 and will be removed in 0.24. This will change numeric results when test-set sizes are unequal.\n",
      "  DeprecationWarning)\n"
     ]
    },
    {
     "name": "stdout",
     "output_type": "stream",
     "text": [
      "Total time elapsed: 7640.945449829102\n"
     ]
    }
   ],
   "source": [
    "# create the model\n",
    "startTime = time.time()\n",
    "# fit the model and get the separating hyperplane using weighted classes\n",
    "# Regularization parameter, C, has to be fine-tuned by cross-validation\n",
    "wSVM_clf = svm.SVC(class_weight='balanced', probability=True)\n",
    "# sweep the Regularization parameter of the mode and use \n",
    "# Cross Validation to find optimum value\n",
    "CVParams = [\n",
    "  {'C': [1e-6, 1e-4, 1e-2, 1e-1, 1, 10, 100, 1000], 'kernel': ['linear']},\n",
    "#   {'C': [1e-6, 1e-4, 1e-2, 1e-1, 1, 10, 100, 1000], \\\n",
    "#    'gamma': [1e-4, 1e-3, 1e-2, 1e-1, 1, 10, 100], 'kernel': ['rbf']},\n",
    "            ]\n",
    "wCVSVM = GridSearchCV(wSVM_clf, CVParams, cv=8, n_jobs=-1)\n",
    "# fit the model and get the separating hyperplane\n",
    "wCVSVM.fit(x_train_Tr, y_train_Tr)\n",
    "wCVSVM.best_params_\n",
    "\n",
    "print('Total time elapsed:', time.time()-startTime)"
   ]
  },
  {
   "cell_type": "code",
   "execution_count": 92,
   "metadata": {},
   "outputs": [
    {
     "name": "stdout",
     "output_type": "stream",
     "text": [
      "Number of trials is: 248 \n",
      "Number of features is: 41\n",
      "Test set size is: 50\n",
      "Train set size is: 290\n",
      "\n",
      "wSVM results:\n",
      " train accuracy:   1.000\n",
      " test accuracy:  0.660\n",
      "Confusion matrix for wSVM (time domain):\n",
      " [[ 0 17]\n",
      " [ 0 33]]\n",
      "Classification report for wSVM (time domain):\n",
      "               precision    recall  f1-score   support\n",
      "\n",
      "           0       0.00      0.00      0.00        17\n",
      "           1       0.66      1.00      0.80        33\n",
      "\n",
      "    accuracy                           0.66        50\n",
      "   macro avg       0.33      0.50      0.40        50\n",
      "weighted avg       0.44      0.66      0.52        50\n",
      "\n",
      "Best value for C is: {'C': 1, 'gamma': 0.1, 'kernel': 'rbf'}\n"
     ]
    },
    {
     "name": "stderr",
     "output_type": "stream",
     "text": [
      "/Users/saberbf/opt/anaconda3/envs/bdl_2019f_env/lib/python3.7/site-packages/sklearn/metrics/classification.py:1437: UndefinedMetricWarning: Precision and F-score are ill-defined and being set to 0.0 in labels with no predicted samples.\n",
      "  'precision', 'predicted', average, warn_for)\n"
     ]
    }
   ],
   "source": [
    "pd.DataFrame(wCVSVM.cv_results_)\n",
    "\n",
    "print('Number of trials is:',num_trials,'\\nNumber of features is:',num_feats)\n",
    "print('Test set size is:',x_test_Ts.shape[0])\n",
    "print('Train set size is:',x_train_Tr.shape[0])\n",
    "\n",
    "\n",
    "print('\\nwSVM results:\\n train accuracy: %7.3f\\n test accuracy:%7.3f' \\\n",
    "   %(wCVSVM.score(x_train_Tr, y_train_Tr), wCVSVM.score(x_test_Ts, y_test_Ts)))\n",
    "\n",
    "print ('Confusion matrix for wSVM (time domain):\\n', \\\n",
    "       confusion_matrix(y_test_Ts, wCVSVM.predict(x_test_Ts)))\n",
    "print('Classification report for wSVM (time domain):\\n', \\\n",
    "      classification_report(y_test_Ts, wCVSVM.predict(x_test_Ts)))\n",
    "\n",
    "# plt.plot(np.log(CVParams[:]['C']), wCVSVM.cv_results_['mean_test_score'], color='r')\n",
    "print('Best value for C is:', wCVSVM.best_params_)\n",
    "# print(wCVSVM.cv_results_)"
   ]
  },
  {
   "cell_type": "code",
   "execution_count": 93,
   "metadata": {},
   "outputs": [
    {
     "name": "stdout",
     "output_type": "stream",
     "text": [
      "[1.]\n"
     ]
    },
    {
     "data": {
      "text/plain": [
       "0.0    147\n",
       "1.0    143\n",
       "Name: 0, dtype: int64"
      ]
     },
     "execution_count": 93,
     "metadata": {},
     "output_type": "execute_result"
    }
   ],
   "source": [
    "# Is our model still predicting just one class?\n",
    "print(np.unique(wCVSVM.predict(x_test_Ts)))\n",
    "\n",
    "\n",
    "df = pd.DataFrame(data=y_train_Tr)\n",
    "df[0].value_counts()"
   ]
  },
  {
   "cell_type": "code",
   "execution_count": 94,
   "metadata": {},
   "outputs": [
    {
     "data": {
      "image/png": "[encoded data removed]",
      "text/plain": [
       "<Figure size 432x288 with 1 Axes>"
      ]
     },
     "metadata": {
      "needs_background": "light"
     },
     "output_type": "display_data"
    }
   ],
   "source": [
    "# Compute ROC curve and ROC area for each class\n",
    "fpr, tpr, _ = roc_curve(y_test_Ts, wCVSVM.decision_function(x_test_Ts))\n",
    "roc_auc = auc(fpr, tpr)\n",
    "    \n",
    "\n",
    "# Plot of a ROC curve for a specific class\n",
    "plt.figure()\n",
    "plt.plot(fpr, tpr, color='darkorange',\n",
    "         lw=2, label='ROC curve (area = %0.2f)' % roc_auc)\n",
    "plt.plot([0, 1], [0, 1], color='navy', lw=2, linestyle='--')\n",
    "plt.xlim([0.0, 1.0])\n",
    "plt.ylim([0.0, 1.05])\n",
    "plt.xlabel('False Positive Rate')\n",
    "plt.ylabel('True Positive Rate')\n",
    "plt.title('Receiver operating characteristic example')\n",
    "plt.legend(loc=\"lower right\")\n",
    "plt.show()"
   ]
  },
  {
   "cell_type": "code",
   "execution_count": null,
   "metadata": {},
   "outputs": [],
   "source": []
  }
 ],
 "metadata": {
  "kernelspec": {
   "display_name": "Python 3",
   "language": "python",
   "name": "python3"
  },
  "language_info": {
   "codemirror_mode": {
    "name": "ipython",
    "version": 3
   },
   "file_extension": ".py",
   "mimetype": "text/x-python",
   "name": "python",
   "nbconvert_exporter": "python",
   "pygments_lexer": "ipython3",
   "version": "3.7.5"
  }
 },
 "nbformat": 4,
 "nbformat_minor": 2
}
